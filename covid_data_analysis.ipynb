{
 "cells": [
  {
   "cell_type": "markdown",
   "id": "85999c8f",
   "metadata": {},
   "source": [
    "# COVID-19 Global Data Tracker\n",
    "This notebook analyzes COVID-19 global data including trends in cases, deaths, and vaccinations."
   ]
  },
  {
   "cell_type": "code",
   "execution_count": null,
   "id": "96abc17f",
   "metadata": {},
   "outputs": [],
   "source": [
    "import pandas as pd\n",
    "import numpy as np\n",
    "import matplotlib.pyplot as plt\n",
    "import seaborn as sns\n",
    "import warnings\n",
    "from datetime import datetime\n",
    "\n",
    "# Suppress warnings\n",
    "warnings.filterwarnings('ignore')\n",
    "\n",
    "# Set matplotlib and seaborn styles\n",
    "plt.style.use('ggplot')\n",
    "sns.set_palette(\"deep\")\n",
    "sns.set_context(\"notebook\")\n",
    "\n",
    "print(\"COVID-19 Global Data Analysis\")\n",
    "print(\"=\" * 30)\n"
   ]
  },
  {
   "cell_type": "code",
   "execution_count": null,
   "id": "e770df01",
   "metadata": {},
   "outputs": [],
   "source": [
    "try:\n",
    "    df = pd.read_csv(\"owid-covid-data.csv\")\n",
    "    df['date'] = pd.to_datetime(df['date'])\n",
    "    \n",
    "    print(f\"Dataset shape: {df.shape}\")\n",
    "    print(f\"Date range: {df['date'].min()} to {df['date'].max()}\")\n",
    "except FileNotFoundError:\n",
    "    print(\"Error: The file 'owid-covid-data.csv' was not found.\")\n",
    "    print(\"Please download the dataset from: https://github.com/owid/covid-19-data/tree/master/public/data\")\n",
    "    raise\n"
   ]
  },
  {
   "cell_type": "code",
   "execution_count": null,
   "id": "71975ee7",
   "metadata": {},
   "outputs": [],
   "source": [
    "default_countries = ['Kenya', 'United States', 'India', 'Germany', 'Brazil', \n",
    "                    'South Africa', 'Australia', 'United Kingdom', 'China']\n",
    "\n",
    "existing_countries = [country for country in default_countries if country in df['location'].unique()]\n",
    "missing_countries = set(default_countries) - set(existing_countries)\n",
    "\n",
    "if missing_countries:\n",
    "    print(f\"Warning: The following countries are not in the dataset: {missing_countries}\")\n",
    "    print(f\"Using available countries: {existing_countries}\")\n",
    "    default_countries = existing_countries\n",
    "\n",
    "countries_df = df[df['location'].isin(default_countries)].copy()\n",
    "countries_df = countries_df.dropna(subset=['total_cases', 'total_deaths'])\n",
    "countries_df[['new_cases', 'new_deaths']] = countries_df[['new_cases', 'new_deaths']].fillna(0)\n",
    "\n",
    "if 'total_vaccinations' in countries_df.columns:\n",
    "    countries_df['total_vaccinations'] = countries_df.groupby('location')['total_vaccinations'].transform(\n",
    "        lambda x: x.fillna(method='ffill'))\n",
    "else:\n",
    "    print(\"Warning: 'total_vaccinations' column not found in the dataset.\")\n",
    "\n",
    "print(f\"Processed data shape: {countries_df.shape}\")\n"
   ]
  },
  {
   "cell_type": "code",
   "execution_count": null,
   "id": "5feb8344",
   "metadata": {},
   "outputs": [],
   "source": [
    "plt.figure(figsize=(14, 8))\n",
    "\n",
    "for country in default_countries:\n",
    "    subset = countries_df[countries_df['location'] == country]\n",
    "    if not subset.empty:\n",
    "        plt.plot(subset['date'], subset['total_cases'], label=country, linewidth=2)\n",
    "\n",
    "plt.title(\"Total COVID-19 Cases Over Time\", fontsize=16)\n",
    "plt.xlabel(\"Date\", fontsize=12)\n",
    "plt.ylabel(\"Total Cases (log scale)\", fontsize=12)\n",
    "plt.yscale('log')\n",
    "plt.grid(True, alpha=0.3)\n",
    "plt.legend(fontsize=10)\n",
    "plt.tight_layout()\n",
    "plt.show()\n"
   ]
  },
  {
   "cell_type": "code",
   "execution_count": null,
   "id": "3e057bea",
   "metadata": {},
   "outputs": [],
   "source": [
    "cols_to_check = ['location', 'total_cases', 'total_deaths', 'new_cases', 'new_deaths']\n",
    "optional_cols = ['total_vaccinations', 'hosp_patients']\n",
    "cols_to_check.extend([col for col in optional_cols if col in df.columns])\n",
    "\n",
    "missing_data = df[cols_to_check].isnull().sum()\n",
    "missing_percentage = (df[cols_to_check].isnull().sum() / len(df)) * 100\n",
    "\n",
    "missing_info = pd.DataFrame({\n",
    "    'Missing Values': missing_data,\n",
    "    'Percentage (%)': missing_percentage.round(2)\n",
    "})\n",
    "\n",
    "print(\"Missing Data Analysis:\")\n",
    "print(missing_info)\n",
    "\n",
    "plt.figure(figsize=(10, 6))\n",
    "sns.heatmap(df[cols_to_check].isnull(), cmap='viridis', yticklabels=False, cbar=False)\n",
    "plt.title('Missing Data Visualization')\n",
    "plt.tight_layout()\n",
    "plt.show()\n"
   ]
  },
  {
   "cell_type": "code",
   "execution_count": null,
   "id": "a6eeb255",
   "metadata": {},
   "outputs": [],
   "source": [
    "if 'total_vaccinations' in countries_df.columns:\n",
    "    latest_data = countries_df.sort_values('date').groupby('location').last().reset_index()\n",
    "    \n",
    "    if 'population' in latest_data.columns:\n",
    "        latest_data['vaccination_rate'] = (latest_data['total_vaccinations'] / latest_data['population']) * 100\n",
    "        latest_data = latest_data.sort_values('vaccination_rate', ascending=False)\n",
    "        \n",
    "        plt.figure(figsize=(12, 8))\n",
    "        bars = sns.barplot(x='location', y='vaccination_rate', data=latest_data)\n",
    "        plt.title('COVID-19 Vaccination Rate by Country (%)')\n",
    "        plt.xlabel('Country')\n",
    "        plt.ylabel('Vaccination Rate (%)')\n",
    "        plt.xticks(rotation=45)\n",
    "        plt.grid(True, alpha=0.3)\n",
    "        \n",
    "        for bar in bars.patches:\n",
    "            bars.text(bar.get_x() + bar.get_width()/2., bar.get_height() + 1,\n",
    "                      f\"{bar.get_height():.1f}%\", ha='center', va='bottom')\n",
    "        \n",
    "        plt.tight_layout()\n",
    "        plt.show()\n"
   ]
  },
  {
   "cell_type": "code",
   "execution_count": null,
   "id": "64d0bb6e",
   "metadata": {},
   "outputs": [],
   "source": [
    "countries_df['death_rate'] = (countries_df['total_deaths'] / countries_df['total_cases']) * 100\n",
    "\n",
    "latest_data = countries_df.sort_values('date').groupby('location').last().reset_index()\n",
    "latest_data = latest_data.sort_values('death_rate', ascending=False)\n",
    "\n",
    "plt.figure(figsize=(12, 6))\n",
    "bars = sns.barplot(x='location', y='death_rate', data=latest_data)\n",
    "plt.title(\"Latest COVID-19 Death Rates (%)\")\n",
    "plt.xlabel(\"Country\")\n",
    "plt.ylabel(\"Death Rate (%)\")\n",
    "plt.xticks(rotation=45)\n",
    "plt.grid(True, alpha=0.3)\n",
    "\n",
    "for bar in bars.patches:\n",
    "    bars.text(bar.get_x() + bar.get_width()/2., bar.get_height() + 0.1,\n",
    "              f\"{bar.get_height():.2f}%\", ha='center', va='bottom')\n",
    "\n",
    "plt.tight_layout()\n",
    "plt.show()\n"
   ]
  },
  {
   "cell_type": "code",
   "execution_count": null,
   "id": "a8d37b27",
   "metadata": {},
   "outputs": [],
   "source": [
    "print(\"Calculating 7-day rolling averages...\")\n",
    "plt.figure(figsize=(14, 8))\n",
    "\n",
    "for country in default_countries:\n",
    "    country_data = countries_df[countries_df['location'] == country].copy()\n",
    "    if not country_data.empty:\n",
    "        country_data['rolling_new_cases'] = country_data['new_cases'].rolling(window=7).mean()\n",
    "        plt.plot(country_data['date'], country_data['rolling_new_cases'], label=country, linewidth=2)\n",
    "\n",
    "plt.title(\"7-Day Rolling Average of New COVID-19 Cases\")\n",
    "plt.xlabel(\"Date\")\n",
    "plt.ylabel(\"7-Day Avg New Cases\")\n",
    "plt.grid(True, alpha=0.3)\n",
    "plt.legend(fontsize=10)\n",
    "plt.tight_layout()\n",
    "plt.show()\n"
   ]
  },
  {
   "cell_type": "code",
   "execution_count": null,
   "id": "67a120e7",
   "metadata": {},
   "outputs": [],
   "source": [
    "latest_date = countries_df['date'].max().strftime('%Y-%m-%d')\n",
    "print(f\"Summary statistics as of {latest_date}:\")\n",
    "\n",
    "latest_data = countries_df.sort_values('date').groupby('location').last().reset_index()\n",
    "\n",
    "print(\"\\nTotal Cases by Country:\")\n",
    "for _, row in latest_data.sort_values('total_cases', ascending=False).iterrows():\n",
    "    print(f\"{row['location']}: {row['total_cases']:,.0f}\")\n",
    "\n",
    "print(\"\\nTotal Deaths by Country:\")\n",
    "for _, row in latest_data.sort_values('total_deaths', ascending=False).iterrows():\n",
    "    print(f\"{row['location']}: {row['total_deaths']:,.0f}\")\n",
    "\n",
    "print(\"\\nDeath Rate by Country:\")\n",
    "for _, row in latest_data.sort_values('death_rate', ascending=False).iterrows():\n",
    "    print(f\"{row['location']}: {row['death_rate']:.2f}%\")\n"
   ]
  },
  {
   "cell_type": "code",
   "execution_count": null,
   "id": "ea95869d",
   "metadata": {},
   "outputs": [],
   "source": [
    "try:\n",
    "    countries_df.to_csv(\"cleaned_covid_data.csv\", index=False)\n",
    "    print(\"Cleaned dataset saved as 'cleaned_covid_data.csv'\")\n",
    "except Exception as e:\n",
    "    print(f\"Error saving cleaned data: {str(e)}\")\n"
   ]
  }
 ],
 "metadata": {
  "kernelspec": {
   "display_name": ".venv",
   "language": "python",
   "name": "python3"
  },
  "language_info": {
   "codemirror_mode": {
    "name": "ipython",
    "version": 3
   },
   "file_extension": ".py",
   "mimetype": "text/x-python",
   "name": "python",
   "nbconvert_exporter": "python",
   "pygments_lexer": "ipython3",
   "version": "3.12.3"
  }
 },
 "nbformat": 4,
 "nbformat_minor": 5
}
