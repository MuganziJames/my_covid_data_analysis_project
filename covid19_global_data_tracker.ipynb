{
 "cells": [
  {
   "cell_type": "markdown",
   "id": "a9382a50",
   "metadata": {},
   "source": [
    "# COVID-19 Global Data Tracker\n",
    "This Jupyter Notebook analyzes global COVID‑19 data—including trends in cases, deaths, and vaccinations—using real‑world datasets from **Our World in Data**. You’ll find step‑by‑step sections that cover data collection, exploration, cleaning, EDA, visualizations, and a place for narrative insights.\n",
    "\n",
    "> **Project objectives:** import & clean data · analyze trends · compare countries · visualize metrics · communicate findings."
   ]
  },
  {
   "cell_type": "markdown",
   "id": "5610ba26",
   "metadata": {},
   "source": [
    "## 1 · Data Collection\n",
    "**Source:** [Our World in Data](https://ourworldindata.org/covid-cases) ‑ `owid‑covid‑data.csv`\n",
    "\n",
    "Download the latest CSV and place it in the working directory."
   ]
  },
  {
   "cell_type": "code",
   "execution_count": null,
   "id": "c59ca330",
   "metadata": {},
   "outputs": [],
   "source": [
    "# 1 · Data Collection — load raw CSV\n",
    "import pandas as pd, warnings, os, sys\n",
    "warnings.filterwarnings('ignore')\n",
    "\n",
    "DATA_PATH = 'owid-covid-data.csv'\n",
    "\n",
    "if not os.path.exists(DATA_PATH):\n",
    "    raise FileNotFoundError(\n",
    "        f\"{DATA_PATH} not found. Download it from \"\n",
    "        \"https://github.com/owid/covid-19-data/tree/master/public/data and place it next to this notebook.\"\n",
    "    )\n",
    "\n",
    "df = pd.read_csv(DATA_PATH)\n",
    "print(f\"Raw shape: {df.shape}\")\n",
    "print(\"Sample rows:\"); display(df.head())"
   ]
  },
  {
   "cell_type": "markdown",
   "id": "99317ab3",
   "metadata": {},
   "source": [
    "## 2 · Data Loading & Exploration"
   ]
  },
  {
   "cell_type": "code",
   "execution_count": null,
   "id": "9d10eed2",
   "metadata": {},
   "outputs": [],
   "source": [
    "# Inspect columns & missing values\n",
    "print(\"Columns:\", df.columns.tolist())\n",
    "print(\"\\nMissing values per column:\")\n",
    "print(df.isnull().sum().sort_values(ascending=False).head(15))"
   ]
  },
  {
   "cell_type": "markdown",
   "id": "71924a9e",
   "metadata": {},
   "source": [
    "## 3 · Data Cleaning"
   ]
  },
  {
   "cell_type": "code",
   "execution_count": null,
   "id": "17f0cb9c",
   "metadata": {},
   "outputs": [],
   "source": [
    "# Convert date column & select relevant countries\n",
    "import numpy as np\n",
    "df['date'] = pd.to_datetime(df['date'], errors='coerce')\n",
    "default_countries = ['Kenya','United States','India','Germany','Brazil','South Africa','Australia','United Kingdom','China']\n",
    "existing_countries = [c for c in default_countries if c in df['location'].unique()]\n",
    "df = df[df['location'].isin(existing_countries)].copy()\n",
    "\n",
    "# Basic cleanup\n",
    "numeric_cols = ['total_cases','total_deaths','new_cases','new_deaths','total_vaccinations']\n",
    "for col in numeric_cols:\n",
    "    if col in df.columns:\n",
    "        df[col] = df[col].fillna(method='ffill')\n",
    "\n",
    "df = df.dropna(subset=['date','total_cases','total_deaths'])\n",
    "print(\"Cleaned shape:\", df.shape)"
   ]
  },
  {
   "cell_type": "markdown",
   "id": "1d1a16e7",
   "metadata": {},
   "source": [
    "## 4 · Exploratory Data Analysis (EDA) — Cases & Deaths"
   ]
  },
  {
   "cell_type": "code",
   "execution_count": null,
   "id": "a6b9b3c7",
   "metadata": {},
   "outputs": [],
   "source": [
    "import matplotlib.pyplot as plt, seaborn as sns\n",
    "plt.style.use('ggplot'); sns.set_context('notebook')\n",
    "\n",
    "# Total cases over time (log‑scale)\n",
    "plt.figure(figsize=(14,8))\n",
    "for c in existing_countries:\n",
    "    subset = df[df['location']==c]\n",
    "    plt.plot(subset['date'], subset['total_cases'], label=c, linewidth=2)\n",
    "plt.yscale('log'); plt.grid(alpha=.3)\n",
    "plt.title('Total COVID‑19 Cases Over Time'); plt.xlabel('Date'); plt.ylabel('Total Cases (log)')\n",
    "plt.legend(); plt.tight_layout(); plt.show()"
   ]
  },
  {
   "cell_type": "code",
   "execution_count": null,
   "id": "6c5b0101",
   "metadata": {},
   "outputs": [],
   "source": [
    "# Heatmap of missing data for key columns\n",
    "import seaborn as sns, matplotlib.pyplot as plt\n",
    "key_cols = ['total_cases','total_deaths','new_cases','new_deaths','total_vaccinations']\n",
    "plt.figure(figsize=(10,6))\n",
    "sns.heatmap(df[key_cols].isnull(), cbar=False, yticklabels=False, cmap='viridis')\n",
    "plt.title('Missing‑Data Pattern'); plt.tight_layout(); plt.show()"
   ]
  },
  {
   "cell_type": "markdown",
   "id": "88e65863",
   "metadata": {},
   "source": [
    "## 5 · Vaccination Progress"
   ]
  },
  {
   "cell_type": "code",
   "execution_count": null,
   "id": "d07e502d",
   "metadata": {},
   "outputs": [],
   "source": [
    "# Vaccination rate (%) for latest date\n",
    "latest = df.sort_values('date').groupby('location').last().reset_index()\n",
    "if {'total_vaccinations','population'}.issubset(latest.columns):\n",
    "    latest['vax_rate'] = 100*latest['total_vaccinations']/latest['population']\n",
    "    latest = latest.sort_values('vax_rate', ascending=False)\n",
    "\n",
    "    plt.figure(figsize=(12,6))\n",
    "    bars = sns.barplot(data=latest, x='location', y='vax_rate')\n",
    "    plt.xticks(rotation=45); plt.title('Vaccination Coverage (%)'); plt.ylabel('% of Population')\n",
    "    for bar in bars.containers[0]:\n",
    "        bars.bar_label(bars.containers[0], fmt='%.1f%%', label_type='edge')\n",
    "    plt.tight_layout(); plt.show()"
   ]
  },
  {
   "cell_type": "markdown",
   "id": "a432295d",
   "metadata": {},
   "source": [
    "## 6 · Death‑Rate Analysis"
   ]
  },
  {
   "cell_type": "code",
   "execution_count": null,
   "id": "c991aab0",
   "metadata": {},
   "outputs": [],
   "source": [
    "df['death_rate'] = 100*df['total_deaths']/df['total_cases']\n",
    "latest = df.sort_values('date').groupby('location').last().reset_index().sort_values('death_rate', ascending=False)\n",
    "\n",
    "plt.figure(figsize=(12,6))\n",
    "bars = sns.barplot(data=latest, x='location', y='death_rate')\n",
    "plt.xticks(rotation=45); plt.ylabel('Death Rate (%)'); plt.title('Current COVID‑19 Death Rates')\n",
    "for bar in bars.containers[0]:\n",
    "    bars.bar_label(bars.containers[0], fmt='%.2f%%', label_type='edge')\n",
    "plt.tight_layout(); plt.show()"
   ]
  },
  {
   "cell_type": "markdown",
   "id": "1015c8c9",
   "metadata": {},
   "source": [
    "## 7 · 7‑Day Rolling Average of New Cases"
   ]
  },
  {
   "cell_type": "code",
   "execution_count": null,
   "id": "9511e9d4",
   "metadata": {},
   "outputs": [],
   "source": [
    "plt.figure(figsize=(14,8))\n",
    "for c in existing_countries:\n",
    "    subset = df[df['location']==c].copy()\n",
    "    subset['rolling'] = subset['new_cases'].rolling(window=7).mean()\n",
    "    plt.plot(subset['date'], subset['rolling'], label=c, linewidth=2)\n",
    "plt.grid(alpha=.3); plt.title('7‑Day Avg New Cases'); plt.xlabel('Date'); plt.ylabel('Cases')\n",
    "plt.legend(); plt.tight_layout(); plt.show()"
   ]
  },
  {
   "cell_type": "markdown",
   "id": "4e7b42b8",
   "metadata": {},
   "source": [
    "## 9 · Summary Statistics"
   ]
  },
  {
   "cell_type": "code",
   "execution_count": null,
   "id": "57ab2924",
   "metadata": {},
   "outputs": [],
   "source": [
    "latest = df.sort_values('date').groupby('location').last().reset_index()\n",
    "print(\"As of\", latest['date'].max().strftime('%Y‑%m‑%d'))\n",
    "display(latest[['location','total_cases','total_deaths','death_rate']].sort_values('total_cases', ascending=False))"
   ]
  },
  {
   "cell_type": "markdown",
   "id": "2c90aafc",
   "metadata": {},
   "source": [
    "## 10 · Insights & Conclusions\n",
    "Use this markdown cell to record **3‑5 narrative insights**. Example:\n",
    "- Country X achieved the fastest vaccination rollout (>70% by mid‑2021).\n",
    "- Death rates remain highest in Country Y despite lower case counts, suggesting differences in healthcare capacity.\n",
    "- A global decline in new cases is visible after widespread vaccine availability in late‑2021.\n",
    "\n",
    "Feel free to expand this discussion and add policy implications or future‑work ideas."
   ]
  },
  {
   "cell_type": "code",
   "execution_count": null,
   "id": "84654759",
   "metadata": {},
   "outputs": [],
   "source": [
    "# Export cleaned subset\n",
    "CLEAN_PATH = 'cleaned_covid_data.csv'\n",
    "df.to_csv(CLEAN_PATH, index=False)\n",
    "print(f\"Cleaned data saved → {CLEAN_PATH}\")"
   ]
  }
 ],
 "metadata": {
  "kernelspec": {
   "display_name": ".venv",
   "language": "python",
   "name": "python3"
  },
  "language_info": {
   "name": "python",
   "version": "3.12.3"
  }
 },
 "nbformat": 4,
 "nbformat_minor": 5
}
